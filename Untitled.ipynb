{
 "cells": [
  {
   "cell_type": "code",
   "execution_count": 58,
   "id": "8cfd20c5-62dd-40d5-a039-2893c8121d50",
   "metadata": {},
   "outputs": [],
   "source": [
    "# Import dependencies\n",
    "import json\n",
    "import pandas as pd\n",
    "import numpy as np\n",
    "from loadingData import *"
   ]
  },
  {
   "cell_type": "code",
   "execution_count": 59,
   "id": "fdc1c434-5608-45eb-9191-ad3a55483ed7",
   "metadata": {},
   "outputs": [],
   "source": [
    "# #Declare the path of the data file\n",
    "# file_to_load = \"Data/wikipedia-movies.json\"\n",
    "# #Read the data file\n",
    "# with open(file_to_load, mode='r') as file:\n",
    "#     wiki_movies_raw = json.load(file)"
   ]
  },
  {
   "cell_type": "code",
   "execution_count": 60,
   "id": "da24114d-7e72-45c8-8741-41e152035eff",
   "metadata": {},
   "outputs": [],
   "source": [
    "# Read data files\n",
    "wiki_movies_raw = loadDataFile(\"wikipedia-movies.json\")\n",
    "kaggle_metadata = loadDataFile(\"movies_metadata.csv\")\n",
    "ratings = loadDataFile(\"ratings.csv\")"
   ]
  },
  {
   "cell_type": "code",
   "execution_count": 74,
   "id": "c02f25cf-c897-444b-a6e0-a6ab4a77061f",
   "metadata": {},
   "outputs": [
    {
     "data": {
      "text/plain": [
       "{'url': 'https://en.wikipedia.org/wiki/After_Dark,_My_Sweet',\n",
       " 'year': 1990,\n",
       " 'imdb_link': 'https://www.imdb.com/title/tt0098994/',\n",
       " 'title': 'After Dark, My Sweet',\n",
       " 'Directed by': 'James Foley',\n",
       " 'Produced by': ['Ric Kidney', 'Robert Redlin'],\n",
       " 'Screenplay by': ['James Foley', 'Robert Redlin'],\n",
       " 'Based on': ['the novel', 'After Dark, My Sweet', 'by', 'Jim Thompson'],\n",
       " 'Starring': ['Jason Patric', 'Rachel Ward', 'Bruce Dern', 'George Dickerson'],\n",
       " 'Music by': 'Maurice Jarre',\n",
       " 'Cinematography': 'Mark Plummer',\n",
       " 'Edited by': 'Howard E. Smith',\n",
       " 'Productioncompany ': 'Avenue Pictures',\n",
       " 'Distributed by': 'Avenue Pictures',\n",
       " 'Release date': ['May 17, 1990',\n",
       "  '(',\n",
       "  '1990-05-17',\n",
       "  ')',\n",
       "  '(Cannes Film Market)',\n",
       "  'August 24, 1990',\n",
       "  '(',\n",
       "  '1990-08-24',\n",
       "  ')',\n",
       "  '(United States)'],\n",
       " 'Running time': '114 minutes',\n",
       " 'Country': 'United States',\n",
       " 'Language': 'English',\n",
       " 'Budget': '$6 million',\n",
       " 'Box office': '$2.7 million'}"
      ]
     },
     "execution_count": 74,
     "metadata": {},
     "output_type": "execute_result"
    }
   ],
   "source": [
    "# First 5 records\n",
    "wiki_movies_raw[:5]\n",
    "# Last 5 records\n",
    "kaggle_metadata[:5]\n",
    "# Some records in the middle\n",
    "ratings.sample(n=5)\n",
    "# print()\n",
    "wiki_movies_raw[1]"
   ]
  },
  {
   "cell_type": "code",
   "execution_count": 62,
   "id": "f323e4ac-9dc6-4c0d-b23b-5df904b0b9fe",
   "metadata": {},
   "outputs": [
    {
     "name": "stdout",
     "output_type": "stream",
     "text": [
      "\n"
     ]
    }
   ],
   "source": [
    "wiki_movies_df = pd.DataFrame(wiki_movies_raw)\n",
    "wiki_movies_df.sample(n=10)\n",
    "print()"
   ]
  },
  {
   "cell_type": "code",
   "execution_count": 63,
   "id": "58228fdb-765d-4ce0-9747-453ccd129dfa",
   "metadata": {},
   "outputs": [
    {
     "name": "stdout",
     "output_type": "stream",
     "text": [
      "\n"
     ]
    }
   ],
   "source": [
    "column_list = wiki_movies_df.columns.tolist()\n",
    "column_list.sort()\n",
    "column_list\n",
    "print()"
   ]
  },
  {
   "cell_type": "code",
   "execution_count": 64,
   "id": "3aec6de9-9a05-47ec-9082-2c61909754ba",
   "metadata": {},
   "outputs": [
    {
     "data": {
      "text/plain": [
       "list"
      ]
     },
     "execution_count": 64,
     "metadata": {},
     "output_type": "execute_result"
    }
   ],
   "source": [
    "wiki_movies = [movie for movie in wiki_movies_raw\n",
    "               if ('Director' in movie or 'Directed by' in movie)\n",
    "                   and 'imdb_link' in movie\n",
    "                   and 'No. of episodes' not in movie]\n",
    "type(wiki_movies)\n",
    "# wiki_movies_df2 = pd.DataFrame(wiki_movies)\n",
    "# wiki_movies_df2.columns"
   ]
  },
  {
   "cell_type": "code",
   "execution_count": 71,
   "id": "ea5df0e2-7ede-4106-9a2e-8b211b07e635",
   "metadata": {},
   "outputs": [
    {
     "data": {
      "text/html": [
       "<div>\n",
       "<style scoped>\n",
       "    .dataframe tbody tr th:only-of-type {\n",
       "        vertical-align: middle;\n",
       "    }\n",
       "\n",
       "    .dataframe tbody tr th {\n",
       "        vertical-align: top;\n",
       "    }\n",
       "\n",
       "    .dataframe thead th {\n",
       "        text-align: right;\n",
       "    }\n",
       "</style>\n",
       "<table border=\"1\" class=\"dataframe\">\n",
       "  <thead>\n",
       "    <tr style=\"text-align: right;\">\n",
       "      <th></th>\n",
       "      <th>url</th>\n",
       "      <th>year</th>\n",
       "      <th>imdb_link</th>\n",
       "      <th>title</th>\n",
       "      <th>Directed by</th>\n",
       "      <th>Produced by</th>\n",
       "      <th>Screenplay by</th>\n",
       "      <th>Story by</th>\n",
       "      <th>Based on</th>\n",
       "      <th>Starring</th>\n",
       "      <th>...</th>\n",
       "      <th>Predecessor</th>\n",
       "      <th>Founders</th>\n",
       "      <th>Area served</th>\n",
       "      <th>Products</th>\n",
       "      <th>Services</th>\n",
       "      <th>Russian</th>\n",
       "      <th>Hebrew</th>\n",
       "      <th>Revenue</th>\n",
       "      <th>Operating income</th>\n",
       "      <th>Polish</th>\n",
       "    </tr>\n",
       "  </thead>\n",
       "  <tbody>\n",
       "    <tr>\n",
       "      <th>7089</th>\n",
       "      <td>https://en.wikipedia.org/wiki/Foxtrot_(2017_film)</td>\n",
       "      <td>2018.0</td>\n",
       "      <td>https://www.imdb.com/title/tt6896536/</td>\n",
       "      <td>Foxtrot</td>\n",
       "      <td>Samuel Maoz</td>\n",
       "      <td>[Eitan Mansuri, [, he, ]]</td>\n",
       "      <td>NaN</td>\n",
       "      <td>NaN</td>\n",
       "      <td>NaN</td>\n",
       "      <td>[Lior Ashkenazi, Sarah Adler]</td>\n",
       "      <td>...</td>\n",
       "      <td>NaN</td>\n",
       "      <td>NaN</td>\n",
       "      <td>NaN</td>\n",
       "      <td>NaN</td>\n",
       "      <td>NaN</td>\n",
       "      <td>NaN</td>\n",
       "      <td>פוֹקְסטְרוֹט</td>\n",
       "      <td>NaN</td>\n",
       "      <td>NaN</td>\n",
       "      <td>NaN</td>\n",
       "    </tr>\n",
       "  </tbody>\n",
       "</table>\n",
       "<p>1 rows × 193 columns</p>\n",
       "</div>"
      ],
      "text/plain": [
       "                                                    url    year  \\\n",
       "7089  https://en.wikipedia.org/wiki/Foxtrot_(2017_film)  2018.0   \n",
       "\n",
       "                                  imdb_link    title  Directed by  \\\n",
       "7089  https://www.imdb.com/title/tt6896536/  Foxtrot  Samuel Maoz   \n",
       "\n",
       "                    Produced by Screenplay by Story by Based on  \\\n",
       "7089  [Eitan Mansuri, [, he, ]]           NaN      NaN      NaN   \n",
       "\n",
       "                           Starring  ... Predecessor Founders Area served  \\\n",
       "7089  [Lior Ashkenazi, Sarah Adler]  ...         NaN      NaN         NaN   \n",
       "\n",
       "     Products Services Russian        Hebrew Revenue Operating income Polish  \n",
       "7089      NaN      NaN     NaN  פוֹקְסטְרוֹט     NaN              NaN    NaN  \n",
       "\n",
       "[1 rows x 193 columns]"
      ]
     },
     "execution_count": 71,
     "metadata": {},
     "output_type": "execute_result"
    }
   ],
   "source": [
    "wiki_movies_df[wiki_movies_df['Hebrew'].notnull()]"
   ]
  },
  {
   "cell_type": "code",
   "execution_count": 47,
   "id": "0c2ff74d-113a-43eb-9486-153e560ac288",
   "metadata": {},
   "outputs": [],
   "source": [
    "def clean_movie(movie):\n",
    "    movie = dict(movie) #create a non-destructive copy\n",
    "    alt_titles = {}\n",
    "    # combine alternate titles into one list\n",
    "    for key in ['Also known as','Arabic','Cantonese','Chinese','French',\n",
    "                'Hangul','Hebrew','Hepburn','Japanese','Literally',\n",
    "                'Mandarin','McCune-Reischauer','Original title','Polish',\n",
    "                'Revised Romanization','Romanized','Russian',\n",
    "                'Simplified','Traditional','Yiddish']:\n",
    "        if key in movie:\n",
    "            alt_titles[key] = movie[key]\n",
    "            movie.pop(key)\n",
    "    if len(alt_titles) > 0:\n",
    "        movie['alt_titles'] = alt_titles\n",
    "\n",
    "    # merge column names\n",
    "    def change_column_name(old_name, new_name):\n",
    "        if old_name in movie:\n",
    "            movie[new_name] = movie.pop(old_name)\n",
    "    change_column_name('Adaptation by', 'Writer(s)')\n",
    "    change_column_name('Country of origin', 'Country')\n",
    "    change_column_name('Directed by', 'Director')\n",
    "    change_column_name('Distributed by', 'Distributor')\n",
    "    change_column_name('Edited by', 'Editor(s)')\n",
    "    change_column_name('Length', 'Running time')\n",
    "    change_column_name('Original release', 'Release date')\n",
    "    change_column_name('Music by', 'Composer(s)')\n",
    "    change_column_name('Produced by', 'Producer(s)')\n",
    "    change_column_name('Producer', 'Producer(s)')\n",
    "    change_column_name('Productioncompanies ', 'Production company(s)')\n",
    "    change_column_name('Productioncompany ', 'Production company(s)')\n",
    "    change_column_name('Released', 'Release Date')\n",
    "    change_column_name('Release Date', 'Release date')\n",
    "    change_column_name('Screen story by', 'Writer(s)')\n",
    "    change_column_name('Screenplay by', 'Writer(s)')\n",
    "    change_column_name('Story by', 'Writer(s)')\n",
    "    change_column_name('Theme music composer', 'Composer(s)')\n",
    "    change_column_name('Written by', 'Writer(s)')\n",
    "\n",
    "    return movie"
   ]
  },
  {
   "cell_type": "code",
   "execution_count": 53,
   "id": "f54e7467-61a2-4463-8ee2-e26de0e575f7",
   "metadata": {},
   "outputs": [
    {
     "data": {
      "text/plain": [
       "{'url': 'https://en.wikipedia.org/wiki/Alice_(1990_film)',\n",
       " 'year': 1990,\n",
       " 'imdb_link': 'https://www.imdb.com/title/tt0099012/',\n",
       " 'title': 'Alice',\n",
       " 'Directed by': 'Woody Allen',\n",
       " 'Produced by': 'Robert Greenhut',\n",
       " 'Written by': 'Woody Allen',\n",
       " 'Starring': ['Alec Baldwin',\n",
       "  'Blythe Danner',\n",
       "  'Judy Davis',\n",
       "  'Mia Farrow',\n",
       "  'William Hurt',\n",
       "  'Keye Luke',\n",
       "  'Joe Mantegna',\n",
       "  'Bernadette Peters'],\n",
       " 'Cinematography': 'Carlo Di Palma',\n",
       " 'Edited by': 'Susan E. Morse',\n",
       " 'Distributed by': 'Orion Pictures',\n",
       " 'Release date': ['December 25, 1990', '(', '1990-12-25', ')'],\n",
       " 'Running time': '106 minutes',\n",
       " 'Country': 'United States',\n",
       " 'Language': 'English',\n",
       " 'Budget': '$12 million',\n",
       " 'Box office': '$7,331,647'}"
      ]
     },
     "execution_count": 53,
     "metadata": {},
     "output_type": "execute_result"
    }
   ],
   "source": [
    "clean_movies = [clean_movie(movie) for movie in wiki_movies]\n",
    "wiki_movies_df = pd.DataFrame(clean_movies)\n",
    "sorted(wiki_movies_df.columns.tolist())"
   ]
  },
  {
   "cell_type": "code",
   "execution_count": 43,
   "id": "19a459b7-889f-42bb-b669-6f8bb99751a6",
   "metadata": {},
   "outputs": [
    {
     "name": "stdout",
     "output_type": "stream",
     "text": [
      "\n"
     ]
    }
   ],
   "source": []
  },
  {
   "cell_type": "code",
   "execution_count": 44,
   "id": "eb7a6551-0ab1-4cd1-a27f-f06c91ca71cf",
   "metadata": {},
   "outputs": [],
   "source": []
  },
  {
   "cell_type": "code",
   "execution_count": null,
   "id": "a484ea0a-d987-4de7-8348-2d0e8b9dc4ad",
   "metadata": {},
   "outputs": [],
   "source": []
  }
 ],
 "metadata": {
  "kernelspec": {
   "display_name": "Python 3",
   "language": "python",
   "name": "python3"
  },
  "language_info": {
   "codemirror_mode": {
    "name": "ipython",
    "version": 3
   },
   "file_extension": ".py",
   "mimetype": "text/x-python",
   "name": "python",
   "nbconvert_exporter": "python",
   "pygments_lexer": "ipython3",
   "version": "3.8.8"
  }
 },
 "nbformat": 4,
 "nbformat_minor": 5
}
